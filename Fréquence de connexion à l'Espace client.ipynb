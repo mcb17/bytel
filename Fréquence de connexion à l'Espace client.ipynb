{
 "cells": [
  {
   "cell_type": "markdown",
   "metadata": {},
   "source": [
    "## Fréquence de connexion à l'Espace Client"
   ]
  },
  {
   "cell_type": "markdown",
   "metadata": {},
   "source": [
    "****\n",
    "<a id=\"goal\"></a>\n",
    "### _Objectif : déterminer des cohortes en fonction :_\n",
    "> 1. du mois de connexion\n",
    "> 2. de la promotion\n",
    "> 3. du type de contrats (B&You, Sensation...)\n",
    "****"
   ]
  },
  {
   "cell_type": "markdown",
   "metadata": {},
   "source": [
    "<a id=\"etapes\"></a>\n",
    "### Etapes : \n",
    "> 1. Clean du dataframe \n",
    "2. Création d'une colonne mois, jour, année (utilisation de la fonction)\n",
    "3. Création d'un pivot table : \n",
    "\n",
    "***\n",
    "><font color = grey>cohort_counts = cohort_data.pivot_table(index='CohortMonth', columns='CohortIndex', values='CustomerID')\n",
    "<br>_Avec : index = mois de création de compte, colonne = mois de connexion, values = nb d'id contrat (ayant fait une visite)_</font>\n",
    "*** \n",
    "> 4. Création d'un pivot table donnant la rétention : \n",
    "\n",
    "***\n",
    "><font color = grey>_# Select the first column and store it to cohort_sizes\n",
    "cohort_sizes = cohort_counts.iloc[:,0]\n",
    "<br>_Divide the cohort count by cohort sizes along the rows\n",
    "retention = cohort_counts.divide(cohort_sizes, axis=0)</font>\n",
    "***\n",
    "> 5. Visualisation avec heatmap : \n",
    "***\n",
    "><font color = grey>_Import seaborn package as sns\n",
    "<br>import seaborn as sns\n",
    "<br>plt.figure(figsize=(8, 6))\n",
    "<br>plt.title('Average Spend by Monthly Cohorts')\n",
    "<br>sns.heatmap(average_quantity, annot=True, cmap='Blues')\n",
    "<br>plt.show()_</font>\n",
    "***"
   ]
  },
  {
   "cell_type": "markdown",
   "metadata": {},
   "source": [
    "****\n",
    "### _Teradata_ : \n",
    "> création d'une table avec : \n",
    "<br> liste d'id contrats\n",
    "<br> date de création de compte (au début que mobile) \n",
    "<br> ligne de marché\n",
    "<br> date de visite\n",
    "\n",
    "<br> Liens : \n",
    "<br><br> --> Rappel des étapes d'analyse : [Etapes](#etapes)\n",
    "<br> --> Rappel de l'objectif : [Objectifs](#goal)"
   ]
  },
  {
   "cell_type": "code",
   "execution_count": null,
   "metadata": {},
   "outputs": [],
   "source": [
    "p"
   ]
  }
 ],
 "metadata": {
  "kernelspec": {
   "display_name": "Python 3",
   "language": "python",
   "name": "python3"
  },
  "language_info": {
   "codemirror_mode": {
    "name": "ipython",
    "version": 3
   },
   "file_extension": ".py",
   "mimetype": "text/x-python",
   "name": "python",
   "nbconvert_exporter": "python",
   "pygments_lexer": "ipython3",
   "version": "3.7.1"
  }
 },
 "nbformat": 4,
 "nbformat_minor": 2
}
