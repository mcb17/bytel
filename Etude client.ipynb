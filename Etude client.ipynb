{
 "cells": [
  {
   "cell_type": "code",
   "execution_count": 3,
   "metadata": {},
   "outputs": [],
   "source": [
    "## chargement de BigQuery\n",
    "%load_ext google.cloud.bigquery\n",
    "\n",
    "## Requête\n",
    "from pandas.io import gbq\n",
    "import pandas as pd\n",
    "import numpy as np\n",
    "import matplotlib as plt"
   ]
  },
  {
   "cell_type": "code",
   "execution_count": 4,
   "metadata": {},
   "outputs": [],
   "source": [
    "data = \"\"\"\n",
    "select *\n",
    "from `bouygues-telecom.93892367.testMC_etudeClient` \n",
    "\"\"\"\n",
    "\n",
    "## sauvegarde de la requête en dataFrame \n",
    "dataBQ = gbq.read_gbq(data, 'bouygues-telecom', dialect=\"standard\")"
   ]
  },
  {
   "cell_type": "code",
   "execution_count": 5,
   "metadata": {},
   "outputs": [
    {
     "data": {
      "text/html": [
       "<div>\n",
       "<style scoped>\n",
       "    .dataframe tbody tr th:only-of-type {\n",
       "        vertical-align: middle;\n",
       "    }\n",
       "\n",
       "    .dataframe tbody tr th {\n",
       "        vertical-align: top;\n",
       "    }\n",
       "\n",
       "    .dataframe thead th {\n",
       "        text-align: right;\n",
       "    }\n",
       "</style>\n",
       "<table border=\"1\" class=\"dataframe\">\n",
       "  <thead>\n",
       "    <tr style=\"text-align: right;\">\n",
       "      <th></th>\n",
       "      <th>dateVisite</th>\n",
       "      <th>idVisite</th>\n",
       "      <th>idVisiteur</th>\n",
       "      <th>idFoyer</th>\n",
       "      <th>forfait</th>\n",
       "      <th>idOffre</th>\n",
       "      <th>app</th>\n",
       "    </tr>\n",
       "  </thead>\n",
       "  <tbody>\n",
       "    <tr>\n",
       "      <th>0</th>\n",
       "      <td>2018-10-31</td>\n",
       "      <td>1540945663</td>\n",
       "      <td>3821661626643838717</td>\n",
       "      <td>Null</td>\n",
       "      <td>Forfait Data</td>\n",
       "      <td>6270</td>\n",
       "      <td>web</td>\n",
       "    </tr>\n",
       "    <tr>\n",
       "      <th>1</th>\n",
       "      <td>2018-10-19</td>\n",
       "      <td>1539949787</td>\n",
       "      <td>2109137966731167799</td>\n",
       "      <td>1047913411</td>\n",
       "      <td>Forfait Data</td>\n",
       "      <td>6010</td>\n",
       "      <td></td>\n",
       "    </tr>\n",
       "    <tr>\n",
       "      <th>2</th>\n",
       "      <td>2018-09-04</td>\n",
       "      <td>1536075025</td>\n",
       "      <td>2109137966731167799</td>\n",
       "      <td>1047913411</td>\n",
       "      <td>Forfait Data</td>\n",
       "      <td>6010</td>\n",
       "      <td>web</td>\n",
       "    </tr>\n",
       "    <tr>\n",
       "      <th>3</th>\n",
       "      <td>2018-11-18</td>\n",
       "      <td>1542535466</td>\n",
       "      <td>2109137966731167799</td>\n",
       "      <td>1047913411</td>\n",
       "      <td>Forfait Data</td>\n",
       "      <td>6010</td>\n",
       "      <td>web</td>\n",
       "    </tr>\n",
       "    <tr>\n",
       "      <th>4</th>\n",
       "      <td>2018-11-20</td>\n",
       "      <td>1542727074</td>\n",
       "      <td>2109137966731167799</td>\n",
       "      <td>1047913411</td>\n",
       "      <td>Forfait Data</td>\n",
       "      <td>6010</td>\n",
       "      <td>web</td>\n",
       "    </tr>\n",
       "  </tbody>\n",
       "</table>\n",
       "</div>"
      ],
      "text/plain": [
       "  dateVisite    idVisite           idVisiteur     idFoyer       forfait  \\\n",
       "0 2018-10-31  1540945663  3821661626643838717        Null  Forfait Data   \n",
       "1 2018-10-19  1539949787  2109137966731167799  1047913411  Forfait Data   \n",
       "2 2018-09-04  1536075025  2109137966731167799  1047913411  Forfait Data   \n",
       "3 2018-11-18  1542535466  2109137966731167799  1047913411  Forfait Data   \n",
       "4 2018-11-20  1542727074  2109137966731167799  1047913411  Forfait Data   \n",
       "\n",
       "  idOffre  app  \n",
       "0    6270  web  \n",
       "1    6010       \n",
       "2    6010  web  \n",
       "3    6010  web  \n",
       "4    6010  web  "
      ]
     },
     "execution_count": 5,
     "metadata": {},
     "output_type": "execute_result"
    }
   ],
   "source": [
    "## Date en format date\n",
    "dataBQ[\"dateVisite\"] = pd.to_datetime(dataBQ[\"dateVisite\"])\n",
    "## Affichage du dataFrame \n",
    "dataBQ.head()"
   ]
  },
  {
   "cell_type": "code",
   "execution_count": 6,
   "metadata": {},
   "outputs": [
    {
     "name": "stdout",
     "output_type": "stream",
     "text": [
      "nombre de foyer distincts : 6\n"
     ]
    }
   ],
   "source": [
    "# nombre de foyer\n",
    "\n",
    "print(\"nombre de foyer distincts : \" + str(dataBQ[\"idFoyer\"].nunique()) )"
   ]
  },
  {
   "cell_type": "code",
   "execution_count": 7,
   "metadata": {},
   "outputs": [],
   "source": [
    "client = dataBQ[\"idFoyer\"]"
   ]
  },
  {
   "cell_type": "code",
   "execution_count": 8,
   "metadata": {},
   "outputs": [
    {
     "data": {
      "text/html": [
       "<div>\n",
       "<style scoped>\n",
       "    .dataframe tbody tr th:only-of-type {\n",
       "        vertical-align: middle;\n",
       "    }\n",
       "\n",
       "    .dataframe tbody tr th {\n",
       "        vertical-align: top;\n",
       "    }\n",
       "\n",
       "    .dataframe thead th {\n",
       "        text-align: right;\n",
       "    }\n",
       "</style>\n",
       "<table border=\"1\" class=\"dataframe\">\n",
       "  <thead>\n",
       "    <tr style=\"text-align: right;\">\n",
       "      <th></th>\n",
       "      <th></th>\n",
       "      <th>dateVisite</th>\n",
       "      <th>idVisite</th>\n",
       "      <th>idVisiteur</th>\n",
       "      <th>idFoyer</th>\n",
       "      <th>forfait</th>\n",
       "      <th>idOffre</th>\n",
       "      <th>app</th>\n",
       "    </tr>\n",
       "    <tr>\n",
       "      <th>idFoyer</th>\n",
       "      <th>forfait</th>\n",
       "      <th></th>\n",
       "      <th></th>\n",
       "      <th></th>\n",
       "      <th></th>\n",
       "      <th></th>\n",
       "      <th></th>\n",
       "      <th></th>\n",
       "    </tr>\n",
       "  </thead>\n",
       "  <tbody>\n",
       "    <tr>\n",
       "      <th>1047913411</th>\n",
       "      <th>Forfait Data</th>\n",
       "      <td>14</td>\n",
       "      <td>15</td>\n",
       "      <td>3</td>\n",
       "      <td>1</td>\n",
       "      <td>1</td>\n",
       "      <td>1</td>\n",
       "      <td>3</td>\n",
       "    </tr>\n",
       "    <tr>\n",
       "      <th>26983211821</th>\n",
       "      <th>Forfait Non Bloqué B&amp;YOU</th>\n",
       "      <td>6</td>\n",
       "      <td>18</td>\n",
       "      <td>6</td>\n",
       "      <td>1</td>\n",
       "      <td>1</td>\n",
       "      <td>1</td>\n",
       "      <td>4</td>\n",
       "    </tr>\n",
       "    <tr>\n",
       "      <th>37189026301</th>\n",
       "      <th>Forfait Non Bloqué</th>\n",
       "      <td>18</td>\n",
       "      <td>34</td>\n",
       "      <td>4</td>\n",
       "      <td>1</td>\n",
       "      <td>1</td>\n",
       "      <td>1</td>\n",
       "      <td>3</td>\n",
       "    </tr>\n",
       "    <tr>\n",
       "      <th>37221632921</th>\n",
       "      <th>Forfait Non Bloqué B&amp;YOU</th>\n",
       "      <td>2</td>\n",
       "      <td>3</td>\n",
       "      <td>1</td>\n",
       "      <td>1</td>\n",
       "      <td>1</td>\n",
       "      <td>1</td>\n",
       "      <td>1</td>\n",
       "    </tr>\n",
       "    <tr>\n",
       "      <th>37229805891</th>\n",
       "      <th>FAI ADSL</th>\n",
       "      <td>10</td>\n",
       "      <td>15</td>\n",
       "      <td>4</td>\n",
       "      <td>1</td>\n",
       "      <td>1</td>\n",
       "      <td>1</td>\n",
       "      <td>2</td>\n",
       "    </tr>\n",
       "  </tbody>\n",
       "</table>\n",
       "</div>"
      ],
      "text/plain": [
       "                                      dateVisite  idVisite  idVisiteur  \\\n",
       "idFoyer     forfait                                                      \n",
       "1047913411  Forfait Data                      14        15           3   \n",
       "26983211821 Forfait Non Bloqué B&YOU           6        18           6   \n",
       "37189026301 Forfait Non Bloqué                18        34           4   \n",
       "37221632921 Forfait Non Bloqué B&YOU           2         3           1   \n",
       "37229805891 FAI ADSL                          10        15           4   \n",
       "\n",
       "                                      idFoyer  forfait  idOffre  app  \n",
       "idFoyer     forfait                                                   \n",
       "1047913411  Forfait Data                    1        1        1    3  \n",
       "26983211821 Forfait Non Bloqué B&YOU        1        1        1    4  \n",
       "37189026301 Forfait Non Bloqué              1        1        1    3  \n",
       "37221632921 Forfait Non Bloqué B&YOU        1        1        1    1  \n",
       "37229805891 FAI ADSL                        1        1        1    2  "
      ]
     },
     "execution_count": 8,
     "metadata": {},
     "output_type": "execute_result"
    }
   ],
   "source": [
    "client = dataBQ.groupby([\"idFoyer\", \"forfait\"]).nunique()\n",
    "client.head()"
   ]
  },
  {
   "cell_type": "code",
   "execution_count": 38,
   "metadata": {},
   "outputs": [
    {
     "data": {
      "text/html": [
       "<div>\n",
       "<style scoped>\n",
       "    .dataframe tbody tr th:only-of-type {\n",
       "        vertical-align: middle;\n",
       "    }\n",
       "\n",
       "    .dataframe tbody tr th {\n",
       "        vertical-align: top;\n",
       "    }\n",
       "\n",
       "    .dataframe thead th {\n",
       "        text-align: right;\n",
       "    }\n",
       "</style>\n",
       "<table border=\"1\" class=\"dataframe\">\n",
       "  <thead>\n",
       "    <tr style=\"text-align: right;\">\n",
       "      <th></th>\n",
       "      <th>idFoyer</th>\n",
       "      <th>app</th>\n",
       "      <th>visite</th>\n",
       "    </tr>\n",
       "    <tr>\n",
       "      <th>app</th>\n",
       "      <th></th>\n",
       "      <th></th>\n",
       "      <th></th>\n",
       "    </tr>\n",
       "  </thead>\n",
       "  <tbody>\n",
       "    <tr>\n",
       "      <th></th>\n",
       "      <td>2</td>\n",
       "      <td>1</td>\n",
       "      <td>2</td>\n",
       "    </tr>\n",
       "    <tr>\n",
       "      <th>android</th>\n",
       "      <td>3</td>\n",
       "      <td>1</td>\n",
       "      <td>44</td>\n",
       "    </tr>\n",
       "    <tr>\n",
       "      <th>iOS</th>\n",
       "      <td>2</td>\n",
       "      <td>1</td>\n",
       "      <td>18</td>\n",
       "    </tr>\n",
       "    <tr>\n",
       "      <th>web</th>\n",
       "      <td>4</td>\n",
       "      <td>1</td>\n",
       "      <td>26</td>\n",
       "    </tr>\n",
       "  </tbody>\n",
       "</table>\n",
       "</div>"
      ],
      "text/plain": [
       "         idFoyer  app  visite\n",
       "app                          \n",
       "               2    1       2\n",
       "android        3    1      44\n",
       "iOS            2    1      18\n",
       "web            4    1      26"
      ]
     },
     "execution_count": 38,
     "metadata": {},
     "output_type": "execute_result"
    }
   ],
   "source": [
    "# création de la clé visite\n",
    "dataBQ[\"visite\"] = dataBQ[\"idVisite\"].astype(str) + dataBQ[\"idVisiteur\"].astype(str) + dataBQ[\"dateVisite\"].astype(str)\n",
    "\n",
    "# Nombre de visites par foyer\n",
    "dataVisite = dataBQ[[\"idFoyer\", \"app\", \"visite\"]]\n",
    "dataBQ[\"app\"] = dataBQ[\"app\"].replace({\"Appli_android\":\"android\", \"Appli_iOS\":\"iOS\"})\n",
    "dataVisite = dataVisite.groupby(\"app\").nunique()\n",
    "dataVisite.head()"
   ]
  },
  {
   "cell_type": "code",
   "execution_count": 52,
   "metadata": {},
   "outputs": [
    {
     "data": {
      "text/plain": [
       "<matplotlib.axes._subplots.AxesSubplot at 0x113dbc128>"
      ]
     },
     "execution_count": 52,
     "metadata": {},
     "output_type": "execute_result"
    },
    {
     "data": {
      "image/png": "[encoded data removed]",
      "text/plain": [
       "<Figure size 432x288 with 1 Axes>"
      ]
     },
     "metadata": {},
     "output_type": "display_data"
    }
   ],
   "source": [
    "# affichage du nombre de visite par mois\n",
    "dataFrequence = dataBQ[[\"dateVisite\", \"visite\", \"idFoyer\", \"app\"]]\n",
    "dataFrequence.set_index(\"dateVisite\", inplace=True)\n",
    "dataFrequence = dataFrequence.groupby([\"dateVisite\", \"app\"]).nunique()\n",
    "dataFrequence[\"mean\"] = dataFrequence[\"visite\"] / dataFrequence[\"idFoyer\"]\n",
    "dataFrequence = dataFrequence.unstack().resample(\"M\").count()\n",
    "dataFrequence[\"mean\"].plot()"
   ]
  },
  {
   "cell_type": "code",
   "execution_count": null,
   "metadata": {},
   "outputs": [],
   "source": []
  }
 ],
 "metadata": {
  "kernelspec": {
   "display_name": "Python 3",
   "language": "python",
   "name": "python3"
  },
  "language_info": {
   "codemirror_mode": {
    "name": "ipython",
    "version": 3
   },
   "file_extension": ".py",
   "mimetype": "text/x-python",
   "name": "python",
   "nbconvert_exporter": "python",
   "pygments_lexer": "ipython3",
   "version": "3.6.5"
  }
 },
 "nbformat": 4,
 "nbformat_minor": 2
}
