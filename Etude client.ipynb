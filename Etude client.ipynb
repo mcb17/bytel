{
 "cells": [
  {
   "cell_type": "code",
   "execution_count": 1,
   "metadata": {},
   "outputs": [],
   "source": [
    "## chargement de BigQuery\n",
    "%load_ext google.cloud.bigquery\n",
    "\n",
    "## Requête\n",
    "from pandas.io import gbq"
   ]
  },
  {
   "cell_type": "code",
   "execution_count": 2,
   "metadata": {},
   "outputs": [],
   "source": [
    "data = \"\"\"\n",
    "/* -- Création de la table -- */\n",
    "\n",
    "with visitIdPers as (\n",
    "\n",
    "/* Récupération de l'univers visité */\n",
    "select A.date, A.visitId, A.fullVisitorid, environnement, cd.value as idPersonne, B.app, device.isMobile as mobile\n",
    "from `bouygues-telecom.93892367.ga_sessions_*` as A, unnest(hits) as hits, unnest(hits.customDimensions) as cd\n",
    "\n",
    "/* Récupération de la variable APP */\n",
    "inner join (select date, visitId, fullVisitorid, cd.value as app \n",
    "from `bouygues-telecom.93892367.ga_sessions_*`, unnest(hits) as hits, unnest(hits.customDimensions) as cd\n",
    "where _table_suffix = '20180925'\n",
    "and cd.index = 2\n",
    "\n",
    ") as B\n",
    "on A.date = B.date\n",
    "and A.visitId = B.visitId\n",
    "and A.fullVisitorid = B.fullVisitorid\n",
    "\n",
    "\n",
    "/* Récupération de l'univers */\n",
    "inner join (select date, visitId, fullVisitorid, case when regexp_contains (hits.page.pagePath, 'Espace_client') then 'Espace Client' else cd.value end as environnement\n",
    "from `bouygues-telecom.93892367.ga_sessions_*`, unnest(hits) as hits, unnest(hits.customDimensions) as cd\n",
    "where _table_suffix = '20180925'\n",
    "and cd.index = 15\n",
    "\n",
    ") as C\n",
    "on A.date = C.date\n",
    "and A.visitId = C.visitId\n",
    "and A.fullVisitorid = C.fullVisitorid\n",
    "\n",
    "\n",
    "where _table_suffix = '20180925'\n",
    "and cd.index = 9\n",
    "and  regexp_contains (cd.value , '800003539278') \n",
    "\n",
    ")\n",
    "\n",
    "\n",
    "/* -- Requêtage de la table -- */\n",
    "\n",
    "select date, idPersonne, environnement, app, mobile, count(distinct concat(date, cast(visitId as string), fullVisitorid)) as nb_vist from visitIdPers \n",
    "group by 1,2,3,4,5\n",
    "\"\"\"\n",
    "\n",
    "## sauvegarde de la requête en dataFrame \n",
    "dataBQ = gbq.read_gbq(data, dialect=\"standard\")"
   ]
  },
  {
   "cell_type": "code",
   "execution_count": 3,
   "metadata": {},
   "outputs": [
    {
     "data": {
      "text/html": [
       "<div>\n",
       "<style scoped>\n",
       "    .dataframe tbody tr th:only-of-type {\n",
       "        vertical-align: middle;\n",
       "    }\n",
       "\n",
       "    .dataframe tbody tr th {\n",
       "        vertical-align: top;\n",
       "    }\n",
       "\n",
       "    .dataframe thead th {\n",
       "        text-align: right;\n",
       "    }\n",
       "</style>\n",
       "<table border=\"1\" class=\"dataframe\">\n",
       "  <thead>\n",
       "    <tr style=\"text-align: right;\">\n",
       "      <th></th>\n",
       "      <th>date</th>\n",
       "      <th>idPersonne</th>\n",
       "      <th>environnement</th>\n",
       "      <th>app</th>\n",
       "      <th>mobile</th>\n",
       "      <th>nb_vist</th>\n",
       "    </tr>\n",
       "  </thead>\n",
       "  <tbody>\n",
       "    <tr>\n",
       "      <th>0</th>\n",
       "      <td>20180925</td>\n",
       "      <td>800003539278</td>\n",
       "      <td>Boutique web</td>\n",
       "      <td>web</td>\n",
       "      <td>False</td>\n",
       "      <td>1</td>\n",
       "    </tr>\n",
       "    <tr>\n",
       "      <th>1</th>\n",
       "      <td>20180925</td>\n",
       "      <td>800003539278</td>\n",
       "      <td>Boutique mobile</td>\n",
       "      <td>web</td>\n",
       "      <td>False</td>\n",
       "      <td>3</td>\n",
       "    </tr>\n",
       "    <tr>\n",
       "      <th>2</th>\n",
       "      <td>20180925</td>\n",
       "      <td>800003539278</td>\n",
       "      <td>Espace Client</td>\n",
       "      <td>web</td>\n",
       "      <td>False</td>\n",
       "      <td>3</td>\n",
       "    </tr>\n",
       "    <tr>\n",
       "      <th>3</th>\n",
       "      <td>20180925</td>\n",
       "      <td>800003539278</td>\n",
       "      <td>Espace Client</td>\n",
       "      <td>Appli_iOS</td>\n",
       "      <td>True</td>\n",
       "      <td>1</td>\n",
       "    </tr>\n",
       "  </tbody>\n",
       "</table>\n",
       "</div>"
      ],
      "text/plain": [
       "       date    idPersonne    environnement        app  mobile  nb_vist\n",
       "0  20180925  800003539278     Boutique web        web   False        1\n",
       "1  20180925  800003539278  Boutique mobile        web   False        3\n",
       "2  20180925  800003539278    Espace Client        web   False        3\n",
       "3  20180925  800003539278    Espace Client  Appli_iOS    True        1"
      ]
     },
     "execution_count": 3,
     "metadata": {},
     "output_type": "execute_result"
    }
   ],
   "source": [
    "## Affichage du dataFrame \n",
    "dataBQ.head()"
   ]
  },
  {
   "cell_type": "code",
   "execution_count": 4,
   "metadata": {},
   "outputs": [
    {
     "data": {
      "text/plain": [
       "date             4\n",
       "idPersonne       4\n",
       "environnement    4\n",
       "app              4\n",
       "mobile           4\n",
       "nb_vist          4\n",
       "dtype: int64"
      ]
     },
     "execution_count": 4,
     "metadata": {},
     "output_type": "execute_result"
    }
   ],
   "source": [
    "dataBQ.count()"
   ]
  },
  {
   "cell_type": "code",
   "execution_count": 5,
   "metadata": {},
   "outputs": [],
   "source": [
    "##test3"
   ]
  },
  {
   "cell_type": "code",
   "execution_count": null,
   "metadata": {},
   "outputs": [],
   "source": []
  }
 ],
 "metadata": {
  "kernelspec": {
   "display_name": "Python 3",
   "language": "python",
   "name": "python3"
  },
  "language_info": {
   "codemirror_mode": {
    "name": "ipython",
    "version": 3
   },
   "file_extension": ".py",
   "mimetype": "text/x-python",
   "name": "python",
   "nbconvert_exporter": "python",
   "pygments_lexer": "ipython3",
   "version": "3.6.5"
  }
 },
 "nbformat": 4,
 "nbformat_minor": 2
}
